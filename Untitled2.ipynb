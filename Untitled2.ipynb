{
  "nbformat": 4,
  "nbformat_minor": 0,
  "metadata": {
    "colab": {
      "provenance": [],
      "authorship_tag": "ABX9TyMK/GDLjNkDg5boN3QgXRg8",
      "include_colab_link": true
    },
    "kernelspec": {
      "name": "python3",
      "display_name": "Python 3"
    },
    "language_info": {
      "name": "python"
    }
  },
  "cells": [
    {
      "cell_type": "markdown",
      "metadata": {
        "id": "view-in-github",
        "colab_type": "text"
      },
      "source": [
        "<a href=\"https://colab.research.google.com/github/emmaSDNZ/ML_celsius-a-fahrenheit/blob/main/Untitled2.ipynb\" target=\"_parent\"><img src=\"https://colab.research.google.com/assets/colab-badge.svg\" alt=\"Open In Colab\"/></a>"
      ]
    },
    {
      "cell_type": "code",
      "execution_count": 1,
      "metadata": {
        "id": "bqcdXNOHM3ZM"
      },
      "outputs": [],
      "source": [
        "import tensorflow as tf\n",
        "import pandas as pd\n",
        "import numpy as  np\n",
        "import seaborn as sns\n",
        "import matplotlib.pyplot as plt\n"
      ]
    },
    {
      "cell_type": "code",
      "source": [
        "from google.colab import files\n",
        "from google.colab import drive\n",
        "drive.mount(\"/content/drive\")"
      ],
      "metadata": {
        "colab": {
          "base_uri": "https://localhost:8080/"
        },
        "id": "DuCkBLg0ZKr7",
        "outputId": "01e7d3fb-ec91-46d2-8909-662e866b1db7"
      },
      "execution_count": 2,
      "outputs": [
        {
          "output_type": "stream",
          "name": "stdout",
          "text": [
            "Mounted at /content/drive\n"
          ]
        }
      ]
    },
    {
      "cell_type": "code",
      "source": [
        "#Importando Datos\n",
        "temperature_df = pd.read_csv('/content/drive/MyDrive/DATASINCE/ML/celsius_a_fahrenheit.csv')\n",
        "temperature_df.shape"
      ],
      "metadata": {
        "id": "DKQj5JZtNBXX",
        "colab": {
          "base_uri": "https://localhost:8080/"
        },
        "outputId": "f3846fac-9e3d-41a1-d214-143b5bc4a7f3"
      },
      "execution_count": 3,
      "outputs": [
        {
          "output_type": "execute_result",
          "data": {
            "text/plain": [
              "(30, 2)"
            ]
          },
          "metadata": {},
          "execution_count": 3
        }
      ]
    },
    {
      "cell_type": "code",
      "source": [
        "###Visualizacion\n",
        "sns.scatterplot(data=temperature_df, x=\"Celsius\", y=\"Fahrenheit\")\n"
      ],
      "metadata": {
        "id": "c0GRuw8dhjKS",
        "colab": {
          "base_uri": "https://localhost:8080/",
          "height": 466
        },
        "outputId": "4c73522d-f14c-41e3-b6f7-e575633c2be8"
      },
      "execution_count": 4,
      "outputs": [
        {
          "output_type": "execute_result",
          "data": {
            "text/plain": [
              "<Axes: xlabel='Celsius', ylabel='Fahrenheit'>"
            ]
          },
          "metadata": {},
          "execution_count": 4
        },
        {
          "output_type": "display_data",
          "data": {
            "text/plain": [
              "<Figure size 640x480 with 1 Axes>"
            ],
            "image/png": "[encoded data removed]"
          },
          "metadata": {}
        }
      ]
    },
    {
      "cell_type": "code",
      "source": [
        "#Carga Set de Entrenamiento\n",
        "X_train = temperature_df['Celsius']\n",
        "y_train = temperature_df['Fahrenheit']"
      ],
      "metadata": {
        "id": "3_ttKITTkBci"
      },
      "execution_count": 11,
      "outputs": []
    },
    {
      "cell_type": "code",
      "source": [
        "model = tf.keras.Sequential()\n",
        "model.add(tf.keras.layers.Dense(units=1, input_shape=[1]))"
      ],
      "metadata": {
        "id": "q1oikaUu-M8t"
      },
      "execution_count": 12,
      "outputs": []
    },
    {
      "cell_type": "code",
      "source": [
        "model.summary()"
      ],
      "metadata": {
        "colab": {
          "base_uri": "https://localhost:8080/"
        },
        "id": "hwDmrsBbTOgd",
        "outputId": "96767a63-464f-462f-8e2c-bd8b6a9f0aa7"
      },
      "execution_count": 13,
      "outputs": [
        {
          "output_type": "stream",
          "name": "stdout",
          "text": [
            "Model: \"sequential_1\"\n",
            "_________________________________________________________________\n",
            " Layer (type)                Output Shape              Param #   \n",
            "=================================================================\n",
            " dense_1 (Dense)             (None, 1)                 2         \n",
            "                                                                 \n",
            "=================================================================\n",
            "Total params: 2 (8.00 Byte)\n",
            "Trainable params: 2 (8.00 Byte)\n",
            "Non-trainable params: 0 (0.00 Byte)\n",
            "_________________________________________________________________\n"
          ]
        }
      ]
    },
    {
      "cell_type": "code",
      "source": [
        "#Compilado\n",
        "model.compile(optimizer=tf.keras.optimizers.Adam(1), loss='mean_squared_error')"
      ],
      "metadata": {
        "id": "OACMr5yzVMMr"
      },
      "execution_count": 15,
      "outputs": []
    },
    {
      "cell_type": "code",
      "source": [
        "#Entrenamiento al modelo\n",
        "epochs_hist = model.fit(X_train, y_train, epochs = 100)"
      ],
      "metadata": {
        "colab": {
          "base_uri": "https://localhost:8080/"
        },
        "id": "3BaII7ScWyji",
        "outputId": "3d327fcf-6415-4e89-89fe-39660075294d"
      },
      "execution_count": 16,
      "outputs": [
        {
          "output_type": "stream",
          "name": "stdout",
          "text": [
            "Epoch 1/100\n",
            "1/1 [==============================] - 0s 491ms/step - loss: 2006.7003\n",
            "Epoch 2/100\n",
            "1/1 [==============================] - 0s 11ms/step - loss: 1032.6293\n",
            "Epoch 3/100\n",
            "1/1 [==============================] - 0s 12ms/step - loss: 997.9675\n",
            "Epoch 4/100\n",
            "1/1 [==============================] - 0s 13ms/step - loss: 1238.6027\n",
            "Epoch 5/100\n",
            "1/1 [==============================] - 0s 13ms/step - loss: 1197.7789\n",
            "Epoch 6/100\n",
            "1/1 [==============================] - 0s 13ms/step - loss: 954.7757\n",
            "Epoch 7/100\n",
            "1/1 [==============================] - 0s 12ms/step - loss: 723.8311\n",
            "Epoch 8/100\n",
            "1/1 [==============================] - 0s 11ms/step - loss: 627.7354\n",
            "Epoch 9/100\n",
            "1/1 [==============================] - 0s 14ms/step - loss: 656.5605\n",
            "Epoch 10/100\n",
            "1/1 [==============================] - 0s 13ms/step - loss: 705.8849\n",
            "Epoch 11/100\n",
            "1/1 [==============================] - 0s 12ms/step - loss: 684.8947\n",
            "Epoch 12/100\n",
            "1/1 [==============================] - 0s 10ms/step - loss: 586.4075\n",
            "Epoch 13/100\n",
            "1/1 [==============================] - 0s 10ms/step - loss: 463.6404\n",
            "Epoch 14/100\n",
            "1/1 [==============================] - 0s 12ms/step - loss: 375.4279\n",
            "Epoch 15/100\n",
            "1/1 [==============================] - 0s 9ms/step - loss: 346.7376\n",
            "Epoch 16/100\n",
            "1/1 [==============================] - 0s 13ms/step - loss: 357.6797\n",
            "Epoch 17/100\n",
            "1/1 [==============================] - 0s 13ms/step - loss: 364.7753\n",
            "Epoch 18/100\n",
            "1/1 [==============================] - 0s 13ms/step - loss: 337.7167\n",
            "Epoch 19/100\n",
            "1/1 [==============================] - 0s 15ms/step - loss: 279.0293\n",
            "Epoch 20/100\n",
            "1/1 [==============================] - 0s 14ms/step - loss: 214.9156\n",
            "Epoch 21/100\n",
            "1/1 [==============================] - 0s 13ms/step - loss: 172.1729\n",
            "Epoch 22/100\n",
            "1/1 [==============================] - 0s 11ms/step - loss: 159.3998\n",
            "Epoch 23/100\n",
            "1/1 [==============================] - 0s 12ms/step - loss: 163.4281\n",
            "Epoch 24/100\n",
            "1/1 [==============================] - 0s 13ms/step - loss: 162.1800\n",
            "Epoch 25/100\n",
            "1/1 [==============================] - 0s 11ms/step - loss: 142.7735\n",
            "Epoch 26/100\n",
            "1/1 [==============================] - 0s 12ms/step - loss: 109.6324\n",
            "Epoch 27/100\n",
            "1/1 [==============================] - 0s 12ms/step - loss: 78.0337\n",
            "Epoch 28/100\n",
            "1/1 [==============================] - 0s 19ms/step - loss: 60.8017\n",
            "Epoch 29/100\n",
            "1/1 [==============================] - 0s 15ms/step - loss: 58.9006\n",
            "Epoch 30/100\n",
            "1/1 [==============================] - 0s 14ms/step - loss: 62.3076\n",
            "Epoch 31/100\n",
            "1/1 [==============================] - 0s 10ms/step - loss: 59.4603\n",
            "Epoch 32/100\n",
            "1/1 [==============================] - 0s 13ms/step - loss: 46.6653\n",
            "Epoch 33/100\n",
            "1/1 [==============================] - 0s 13ms/step - loss: 29.7128\n",
            "Epoch 34/100\n",
            "1/1 [==============================] - 0s 9ms/step - loss: 17.6330\n",
            "Epoch 35/100\n",
            "1/1 [==============================] - 0s 10ms/step - loss: 14.8225\n",
            "Epoch 36/100\n",
            "1/1 [==============================] - 0s 14ms/step - loss: 18.0469\n",
            "Epoch 37/100\n",
            "1/1 [==============================] - 0s 14ms/step - loss: 20.1833\n",
            "Epoch 38/100\n",
            "1/1 [==============================] - 0s 11ms/step - loss: 16.7584\n",
            "Epoch 39/100\n",
            "1/1 [==============================] - 0s 11ms/step - loss: 9.2811\n",
            "Epoch 40/100\n",
            "1/1 [==============================] - 0s 8ms/step - loss: 2.9466\n",
            "Epoch 41/100\n",
            "1/1 [==============================] - 0s 13ms/step - loss: 1.5228\n",
            "Epoch 42/100\n",
            "1/1 [==============================] - 0s 10ms/step - loss: 4.2224\n",
            "Epoch 43/100\n",
            "1/1 [==============================] - 0s 8ms/step - loss: 7.0297\n",
            "Epoch 44/100\n",
            "1/1 [==============================] - 0s 8ms/step - loss: 6.7338\n",
            "Epoch 45/100\n",
            "1/1 [==============================] - 0s 8ms/step - loss: 3.6550\n",
            "Epoch 46/100\n",
            "1/1 [==============================] - 0s 8ms/step - loss: 0.7595\n",
            "Epoch 47/100\n",
            "1/1 [==============================] - 0s 10ms/step - loss: 0.4937\n",
            "Epoch 48/100\n",
            "1/1 [==============================] - 0s 11ms/step - loss: 2.5711\n",
            "Epoch 49/100\n",
            "1/1 [==============================] - 0s 10ms/step - loss: 4.6322\n",
            "Epoch 50/100\n",
            "1/1 [==============================] - 0s 9ms/step - loss: 4.7698\n",
            "Epoch 51/100\n",
            "1/1 [==============================] - 0s 9ms/step - loss: 3.2529\n",
            "Epoch 52/100\n",
            "1/1 [==============================] - 0s 9ms/step - loss: 1.9074\n",
            "Epoch 53/100\n",
            "1/1 [==============================] - 0s 9ms/step - loss: 2.0911\n",
            "Epoch 54/100\n",
            "1/1 [==============================] - 0s 9ms/step - loss: 3.4328\n",
            "Epoch 55/100\n",
            "1/1 [==============================] - 0s 13ms/step - loss: 4.4622\n",
            "Epoch 56/100\n",
            "1/1 [==============================] - 0s 12ms/step - loss: 4.2387\n",
            "Epoch 57/100\n",
            "1/1 [==============================] - 0s 9ms/step - loss: 3.2048\n",
            "Epoch 58/100\n",
            "1/1 [==============================] - 0s 9ms/step - loss: 2.5169\n",
            "Epoch 59/100\n",
            "1/1 [==============================] - 0s 8ms/step - loss: 2.7562\n",
            "Epoch 60/100\n",
            "1/1 [==============================] - 0s 8ms/step - loss: 3.4272\n",
            "Epoch 61/100\n",
            "1/1 [==============================] - 0s 9ms/step - loss: 3.6445\n",
            "Epoch 62/100\n",
            "1/1 [==============================] - 0s 12ms/step - loss: 3.1203\n",
            "Epoch 63/100\n",
            "1/1 [==============================] - 0s 14ms/step - loss: 2.3727\n",
            "Epoch 64/100\n",
            "1/1 [==============================] - 0s 15ms/step - loss: 2.0520\n",
            "Epoch 65/100\n",
            "1/1 [==============================] - 0s 13ms/step - loss: 2.2322\n",
            "Epoch 66/100\n",
            "1/1 [==============================] - 0s 16ms/step - loss: 2.4293\n",
            "Epoch 67/100\n",
            "1/1 [==============================] - 0s 11ms/step - loss: 2.2190\n",
            "Epoch 68/100\n",
            "1/1 [==============================] - 0s 12ms/step - loss: 1.6914\n",
            "Epoch 69/100\n",
            "1/1 [==============================] - 0s 14ms/step - loss: 1.2713\n",
            "Epoch 70/100\n",
            "1/1 [==============================] - 0s 16ms/step - loss: 1.1985\n",
            "Epoch 71/100\n",
            "1/1 [==============================] - 0s 11ms/step - loss: 1.2953\n",
            "Epoch 72/100\n",
            "1/1 [==============================] - 0s 12ms/step - loss: 1.2356\n",
            "Epoch 73/100\n",
            "1/1 [==============================] - 0s 14ms/step - loss: 0.9376\n",
            "Epoch 74/100\n",
            "1/1 [==============================] - 0s 12ms/step - loss: 0.6168\n",
            "Epoch 75/100\n",
            "1/1 [==============================] - 0s 12ms/step - loss: 0.4926\n",
            "Epoch 76/100\n",
            "1/1 [==============================] - 0s 13ms/step - loss: 0.5364\n",
            "Epoch 77/100\n",
            "1/1 [==============================] - 0s 14ms/step - loss: 0.5464\n",
            "Epoch 78/100\n",
            "1/1 [==============================] - 0s 12ms/step - loss: 0.4098\n",
            "Epoch 79/100\n",
            "1/1 [==============================] - 0s 12ms/step - loss: 0.2191\n",
            "Epoch 80/100\n",
            "1/1 [==============================] - 0s 13ms/step - loss: 0.1282\n",
            "Epoch 81/100\n",
            "1/1 [==============================] - 0s 14ms/step - loss: 0.1597\n",
            "Epoch 82/100\n",
            "1/1 [==============================] - 0s 12ms/step - loss: 0.1989\n",
            "Epoch 83/100\n",
            "1/1 [==============================] - 0s 10ms/step - loss: 0.1528\n",
            "Epoch 84/100\n",
            "1/1 [==============================] - 0s 10ms/step - loss: 0.0567\n",
            "Epoch 85/100\n",
            "1/1 [==============================] - 0s 10ms/step - loss: 0.0086\n",
            "Epoch 86/100\n",
            "1/1 [==============================] - 0s 12ms/step - loss: 0.0384\n",
            "Epoch 87/100\n",
            "1/1 [==============================] - 0s 13ms/step - loss: 0.0819\n",
            "Epoch 88/100\n",
            "1/1 [==============================] - 0s 12ms/step - loss: 0.0742\n",
            "Epoch 89/100\n",
            "1/1 [==============================] - 0s 11ms/step - loss: 0.0289\n",
            "Epoch 90/100\n",
            "1/1 [==============================] - 0s 14ms/step - loss: 0.0070\n",
            "Epoch 91/100\n",
            "1/1 [==============================] - 0s 13ms/step - loss: 0.0317\n",
            "Epoch 92/100\n",
            "1/1 [==============================] - 0s 9ms/step - loss: 0.0653\n",
            "Epoch 93/100\n",
            "1/1 [==============================] - 0s 9ms/step - loss: 0.0663\n",
            "Epoch 94/100\n",
            "1/1 [==============================] - 0s 9ms/step - loss: 0.0421\n",
            "Epoch 95/100\n",
            "1/1 [==============================] - 0s 9ms/step - loss: 0.0308\n",
            "Epoch 96/100\n",
            "1/1 [==============================] - 0s 8ms/step - loss: 0.0469\n",
            "Epoch 97/100\n",
            "1/1 [==============================] - 0s 10ms/step - loss: 0.0665\n",
            "Epoch 98/100\n",
            "1/1 [==============================] - 0s 8ms/step - loss: 0.0646\n",
            "Epoch 99/100\n",
            "1/1 [==============================] - 0s 8ms/step - loss: 0.0476\n",
            "Epoch 100/100\n",
            "1/1 [==============================] - 0s 8ms/step - loss: 0.0397\n"
          ]
        }
      ]
    },
    {
      "cell_type": "code",
      "source": [
        "#Evaluando\n",
        "epochs_hist.history.keys()\n",
        "\n",
        "#Grafico\n",
        "plt.plot(epochs_hist.history['loss'])\n",
        "plt.title(\"Progreso de Perdida durante Entrenamiento del modelo\")\n",
        "plt.xlabel(\"Epoch\")\n",
        "plt.ylabel(\"Training Loss\")\n",
        "plt.legend(\"Training Loss\")"
      ],
      "metadata": {
        "colab": {
          "base_uri": "https://localhost:8080/",
          "height": 489
        },
        "id": "jPtPNE41bzU8",
        "outputId": "9cdefcaa-9542-4210-cf6b-7224b1342dfa"
      },
      "execution_count": 19,
      "outputs": [
        {
          "output_type": "execute_result",
          "data": {
            "text/plain": [
              "<matplotlib.legend.Legend at 0x7b15f03c2380>"
            ]
          },
          "metadata": {},
          "execution_count": 19
        },
        {
          "output_type": "display_data",
          "data": {
            "text/plain": [
              "<Figure size 640x480 with 1 Axes>"
            ],
            "image/png": "[encoded data removed]"
          },
          "metadata": {}
        }
      ]
    },
    {
      "cell_type": "code",
      "source": [
        "#Evaluando\n",
        "model.get_weights()"
      ],
      "metadata": {
        "colab": {
          "base_uri": "https://localhost:8080/"
        },
        "id": "FOqqpH3tjrqO",
        "outputId": "b447140d-bc03-4801-e5d7-a2daf915ed54"
      },
      "execution_count": 20,
      "outputs": [
        {
          "output_type": "execute_result",
          "data": {
            "text/plain": [
              "[array([[1.7965957]], dtype=float32), array([31.801449], dtype=float32)]"
            ]
          },
          "metadata": {},
          "execution_count": 20
        }
      ]
    },
    {
      "cell_type": "code",
      "source": [
        "#PREDICCION\n",
        "temp_C = 0\n",
        "temp_F = model.predict([temp_C])\n",
        "print(temp_F)"
      ],
      "metadata": {
        "colab": {
          "base_uri": "https://localhost:8080/"
        },
        "id": "aHCDNLDAkgss",
        "outputId": "de9a776b-63a8-4788-d715-c3c76f89787f"
      },
      "execution_count": 22,
      "outputs": [
        {
          "output_type": "stream",
          "name": "stdout",
          "text": [
            "1/1 [==============================] - 0s 154ms/step\n",
            "[[31.801449]]\n"
          ]
        }
      ]
    }
  ]
}